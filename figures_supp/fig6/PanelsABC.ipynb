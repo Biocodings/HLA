{
 "cells": [
  {
   "cell_type": "code",
   "execution_count": 1,
   "metadata": {
    "collapsed": false
   },
   "outputs": [
    {
     "name": "stdout",
     "output_type": "stream",
     "text": [
      "Populating the interactive namespace from numpy and matplotlib\n"
     ]
    },
    {
     "name": "stderr",
     "output_type": "stream",
     "text": [
      "/cellar/users/ramarty/anaconda/lib/python2.7/site-packages/IPython/nbformat/current.py:19: UserWarning: IPython.nbformat.current is deprecated.\n",
      "\n",
      "- use IPython.nbformat for read/write/validate public API\n",
      "- use IPython.nbformat.vX directly to composing notebooks of a particular version\n",
      "\n",
      "  \"\"\")\n"
     ]
    }
   ],
   "source": [
    "import io\n",
    "from IPython.nbformat import current\n",
    "def execute_notebook(nbfile):\n",
    "    with io.open(nbfile) as f:\n",
    "        nb = current.read(f, 'json')\n",
    "    ip = get_ipython()\n",
    "    for cell in nb.worksheets[0].cells:\n",
    "        if cell.cell_type != 'code':\n",
    "            continue\n",
    "        ip.run_cell(cell.input)\n",
    "execute_notebook(\"../../imports/imports.ipynb\")"
   ]
  },
  {
   "cell_type": "markdown",
   "metadata": {},
   "source": [
    "## Panel A <br>\n",
    "Data required: oncogene allele matrix"
   ]
  },
  {
   "cell_type": "code",
   "execution_count": 2,
   "metadata": {
    "collapsed": true
   },
   "outputs": [],
   "source": [
    "allele_matrix = pd.read_csv('../../data/oncogenes_allele_matrix.csv', index_col=0)\n",
    "all_hlas = list(allele_matrix.columns)"
   ]
  },
  {
   "cell_type": "code",
   "execution_count": 3,
   "metadata": {
    "collapsed": true
   },
   "outputs": [],
   "source": [
    "df = pd.DataFrame({'hla_gene': ['A', 'B', 'C'],\n",
    "                   'total': [len([x for x in all_hlas if x[4] == 'A']),\n",
    "                             len([x for x in all_hlas if x[4] == 'B']),\n",
    "                             len([x for x in all_hlas if x[4] == 'C'])]})"
   ]
  },
  {
   "cell_type": "code",
   "execution_count": 4,
   "metadata": {
    "collapsed": false
   },
   "outputs": [
    {
     "data": {
      "text/plain": [
       "<matplotlib.text.Text at 0x7f975a8351d0>"
      ]
     },
     "execution_count": 4,
     "metadata": {},
     "output_type": "execute_result"
    },
    {
     "data": {
      "image/png": "[encoded data removed]",
      "text/plain": [
       "<matplotlib.figure.Figure at 0x7f97880c3910>"
      ]
     },
     "metadata": {},
     "output_type": "display_data"
    }
   ],
   "source": [
    "sns.barplot(x='hla_gene', y='total', data=df, color='white')\n",
    "plt.ylabel('Number of alleles')\n",
    "plt.xlabel('HLA gene')"
   ]
  },
  {
   "cell_type": "markdown",
   "metadata": {},
   "source": [
    "## Panel B <br>\n",
    "Data required: oncogene allele matrix"
   ]
  },
  {
   "cell_type": "code",
   "execution_count": 5,
   "metadata": {
    "collapsed": false
   },
   "outputs": [],
   "source": [
    "df = pd.DataFrame({'peptide_type': ['Tumor Suppressor Genes', 'Oncogenes', 'Common Variation', 'Bacterial', 'Viral','Random'],\n",
    "                   'total': [len(pd.read_csv('../../data/tsgenes_allele_matrix.csv', index_col=0)), \n",
    "                             len(pd.read_csv('../../data/oncogenes_allele_matrix.csv', index_col=0)),\n",
    "                             len(pd.read_csv('../../data/common_allele_matrix.csv', index_col=0)), \n",
    "                             len(pd.read_csv('../../data/bacterial_allele_matrix.csv', index_col=0)), \n",
    "                             len(pd.read_csv('../../data/viral_allele_matrix.csv', index_col=0)), \n",
    "                             len(pd.read_csv('../../data/random_allele_matrix.csv', index_col=0))]})"
   ]
  },
  {
   "cell_type": "code",
   "execution_count": 6,
   "metadata": {
    "collapsed": true
   },
   "outputs": [],
   "source": [
    "df['log_total'] = np.log10(df.total)"
   ]
  },
  {
   "cell_type": "code",
   "execution_count": 7,
   "metadata": {
    "collapsed": false
   },
   "outputs": [
    {
     "data": {
      "text/plain": [
       "<matplotlib.text.Text at 0x7f975a4c3850>"
      ]
     },
     "execution_count": 7,
     "metadata": {},
     "output_type": "execute_result"
    },
    {
     "data": {
      "image/png": "[encoded data removed]",
      "text/plain": [
       "<matplotlib.figure.Figure at 0x7f975a49b510>"
      ]
     },
     "metadata": {},
     "output_type": "display_data"
    }
   ],
   "source": [
    "sns.barplot(x='peptide_type', y='log_total', data=df, color='white')\n",
    "plt.xticks(rotation=45)\n",
    "plt.ylim(0, 4)\n",
    "plt.ylabel('Number of residues')\n",
    "plt.xlabel('')"
   ]
  },
  {
   "cell_type": "markdown",
   "metadata": {},
   "source": [
    "## Panel C <br>\n",
    "Data required: "
   ]
  },
  {
   "cell_type": "code",
   "execution_count": 8,
   "metadata": {
    "collapsed": true
   },
   "outputs": [],
   "source": [
    "categories = ['oncogenes', 'tsgenes', 'random', 'common', 'viral', 'bacterial']"
   ]
  },
  {
   "cell_type": "code",
   "execution_count": 9,
   "metadata": {
    "collapsed": true
   },
   "outputs": [],
   "source": [
    "mutation_counts = pd.DataFrame(pd.read_csv('/cellar/users/ramarty/Data/hla/sandbox/david/patient_mutations.with_in_frame_indels.csv', index_col=0).sum()).reset_index()\n",
    "mutation_counts.columns = ['mutation', 'count']\n",
    "restricted_space = list(mutation_counts[mutation_counts['count'] > 10].mutation)"
   ]
  },
  {
   "cell_type": "code",
   "execution_count": 10,
   "metadata": {
    "collapsed": true
   },
   "outputs": [],
   "source": [
    "def get_values_from_df(df):\n",
    "    values = []\n",
    "    for a in df.values:\n",
    "        values.extend(a)\n",
    "    return values"
   ]
  },
  {
   "cell_type": "code",
   "execution_count": 11,
   "metadata": {
    "collapsed": false
   },
   "outputs": [
    {
     "name": "stdout",
     "output_type": "stream",
     "text": [
      "oncogenes 76\n",
      "tsgenes 70\n",
      "random 3000\n",
      "common 1000\n",
      "viral 1000\n",
      "bacterial 1000\n"
     ]
    }
   ],
   "source": [
    "value_types_all = []\n",
    "for category in categories:\n",
    "    if category == 'oncogenes' or category == 'tsgenes':\n",
    "        df = pd.read_csv('../../data/{0}_allele_matrix.csv'.format(category), index_col=0)\n",
    "        df = df.ix[[x for x in list(df.index) if x in restricted_space]]\n",
    "        print category, len(df)\n",
    "        values = get_values_from_df(df)\n",
    "        value_types_all.append(values)\n",
    "    else:\n",
    "        df = pd.read_csv('../../data/{0}_allele_matrix.csv'.format(category), index_col=0)\n",
    "        df = df\n",
    "        print category, len(df)\n",
    "        values = get_values_from_df(df)\n",
    "        value_types_all.append(values)"
   ]
  },
  {
   "cell_type": "code",
   "execution_count": 12,
   "metadata": {
    "collapsed": true
   },
   "outputs": [],
   "source": [
    "cancer_num = len(value_types_all[0]) + len(value_types_all[1])\n",
    "cancer_res_num = cancer_num/2924"
   ]
  },
  {
   "cell_type": "code",
   "execution_count": 13,
   "metadata": {
    "collapsed": false
   },
   "outputs": [],
   "source": [
    "random_df = pd.read_csv('../../data/random_allele_matrix.csv', index_col=0)"
   ]
  },
  {
   "cell_type": "code",
   "execution_count": 14,
   "metadata": {
    "collapsed": false,
    "scrolled": true
   },
   "outputs": [
    {
     "name": "stdout",
     "output_type": "stream",
     "text": [
      "0\n",
      "100\n",
      "200\n",
      "300\n",
      "400\n",
      "500\n",
      "600\n",
      "700\n",
      "800\n",
      "900\n"
     ]
    }
   ],
   "source": [
    "random_draws = []\n",
    "for i in range(1000):\n",
    "    if i % 100 == 0:\n",
    "        print i\n",
    "    sample = get_values_from_df(random_df.sample(cancer_res_num, axis=0))\n",
    "    greater_than_all = len(filter(lambda a: a < 0.5, sample))\n",
    "    random_draws.append(float(greater_than_all)/cancer_num)"
   ]
  },
  {
   "cell_type": "markdown",
   "metadata": {},
   "source": [
    "This plot is randomly generated, so expect there to be some variation each time."
   ]
  },
  {
   "cell_type": "code",
   "execution_count": 15,
   "metadata": {
    "collapsed": false,
    "scrolled": true
   },
   "outputs": [
    {
     "name": "stdout",
     "output_type": "stream",
     "text": [
      "P-value: 0.006\n"
     ]
    },
    {
     "data": {
      "text/plain": [
       "<matplotlib.lines.Line2D at 0x7f975a710e50>"
      ]
     },
     "execution_count": 15,
     "metadata": {},
     "output_type": "execute_result"
    },
    {
     "data": {
      "image/png": "[encoded data removed]",
      "text/plain": [
       "<matplotlib.figure.Figure at 0x7f975a7107d0>"
      ]
     },
     "metadata": {},
     "output_type": "display_data"
    }
   ],
   "source": [
    "actual = len(filter(lambda a: a < 0.5, value_types_all[0] + value_types_all[1]))/float(cancer_num)\n",
    "print 'P-value:', len([x for x in random_draws if x < actual])/float(len(random_draws))\n",
    "pd.Series(random_draws).hist(bins=20, color='grey')\n",
    "plt.axvline(actual, c='k')"
   ]
  },
  {
   "cell_type": "code",
   "execution_count": null,
   "metadata": {
    "collapsed": true
   },
   "outputs": [],
   "source": []
  }
 ],
 "metadata": {
  "kernelspec": {
   "display_name": "Python 2",
   "language": "python",
   "name": "python2"
  },
  "language_info": {
   "codemirror_mode": {
    "name": "ipython",
    "version": 2
   },
   "file_extension": ".py",
   "mimetype": "text/x-python",
   "name": "python",
   "nbconvert_exporter": "python",
   "pygments_lexer": "ipython2",
   "version": "2.7.12"
  }
 },
 "nbformat": 4,
 "nbformat_minor": 0
}
