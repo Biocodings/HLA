{
 "cells": [
  {
   "cell_type": "code",
   "execution_count": 1,
   "metadata": {
    "collapsed": false,
    "scrolled": true
   },
   "outputs": [
    {
     "name": "stdout",
     "output_type": "stream",
     "text": [
      "Populating the interactive namespace from numpy and matplotlib\n"
     ]
    },
    {
     "name": "stderr",
     "output_type": "stream",
     "text": [
      "/cellar/users/ramarty/anaconda/lib/python2.7/site-packages/IPython/nbformat/current.py:19: UserWarning: IPython.nbformat.current is deprecated.\n",
      "\n",
      "- use IPython.nbformat for read/write/validate public API\n",
      "- use IPython.nbformat.vX directly to composing notebooks of a particular version\n",
      "\n",
      "  \"\"\")\n"
     ]
    }
   ],
   "source": [
    "import io\n",
    "from IPython.nbformat import current\n",
    "def execute_notebook(nbfile):\n",
    "    with io.open(nbfile) as f:\n",
    "        nb = current.read(f, 'json')\n",
    "    ip = get_ipython()\n",
    "    for cell in nb.worksheets[0].cells:\n",
    "        if cell.cell_type != 'code':\n",
    "            continue\n",
    "        ip.run_cell(cell.input)\n",
    "execute_notebook(\"../../imports/imports.ipynb\")"
   ]
  },
  {
   "cell_type": "markdown",
   "metadata": {},
   "source": [
    "## Panel H <br>\n",
    "Data requirements: Patient HLA mutation status, MAF file"
   ]
  },
  {
   "cell_type": "code",
   "execution_count": 2,
   "metadata": {
    "collapsed": true
   },
   "outputs": [],
   "source": [
    "hla_df = pd.read_csv('/cellar/users/ramarty/Data/hla/git_data/data/clinical/mutated_hla.csv', index_col=0)\n",
    "hla_df.index = hla_df['Sample']"
   ]
  },
  {
   "cell_type": "code",
   "execution_count": 3,
   "metadata": {
    "collapsed": false
   },
   "outputs": [
    {
     "data": {
      "text/html": [
       "<div>\n",
       "<table border=\"1\" class=\"dataframe\">\n",
       "  <thead>\n",
       "    <tr style=\"text-align: right;\">\n",
       "      <th></th>\n",
       "      <th></th>\n",
       "      <th>Sample</th>\n",
       "    </tr>\n",
       "    <tr>\n",
       "      <th>mutated_hla_in_maf</th>\n",
       "      <th>mutated_hla_in_shukla</th>\n",
       "      <th></th>\n",
       "    </tr>\n",
       "  </thead>\n",
       "  <tbody>\n",
       "    <tr>\n",
       "      <th rowspan=\"2\" valign=\"top\">False</th>\n",
       "      <th>False</th>\n",
       "      <td>8830</td>\n",
       "    </tr>\n",
       "    <tr>\n",
       "      <th>True</th>\n",
       "      <td>114</td>\n",
       "    </tr>\n",
       "    <tr>\n",
       "      <th rowspan=\"2\" valign=\"top\">True</th>\n",
       "      <th>False</th>\n",
       "      <td>108</td>\n",
       "    </tr>\n",
       "    <tr>\n",
       "      <th>True</th>\n",
       "      <td>124</td>\n",
       "    </tr>\n",
       "  </tbody>\n",
       "</table>\n",
       "</div>"
      ],
      "text/plain": [
       "                                          Sample\n",
       "mutated_hla_in_maf mutated_hla_in_shukla        \n",
       "False              False                    8830\n",
       "                   True                      114\n",
       "True               False                     108\n",
       "                   True                      124"
      ]
     },
     "execution_count": 3,
     "metadata": {},
     "output_type": "execute_result"
    }
   ],
   "source": [
    "hla_df.groupby(['mutated_hla_in_maf', 'mutated_hla_in_shukla']).count()"
   ]
  },
  {
   "cell_type": "code",
   "execution_count": 4,
   "metadata": {
    "collapsed": false
   },
   "outputs": [],
   "source": [
    "# drop rows where maf is true and polysolver is false\n",
    "hla_df = hla_df[~((hla_df.mutated_hla_in_maf == True)&(hla_df.mutated_hla_in_shukla == False))]"
   ]
  },
  {
   "cell_type": "code",
   "execution_count": 5,
   "metadata": {
    "collapsed": false
   },
   "outputs": [],
   "source": [
    "mutations_df = pd.read_csv('/cellar/users/ramarty/Data/hla/git_data/data/tcga_mutation_file.csv', index_col=0)\n",
    "mutations_df = mutations_df.drop_duplicates(['Barcode', 'Hugo_Symbol', 'Protein_position'])\n",
    "mutations_df = mutations_df[mutations_df.Barcode.isin(hla_df['Sample'])]"
   ]
  },
  {
   "cell_type": "code",
   "execution_count": 6,
   "metadata": {
    "collapsed": true
   },
   "outputs": [],
   "source": [
    "tissues_df = pd.read_csv('/cellar/users/ramarty/Data/hla/git_data/data/patient_tissues.csv', index_col=0)"
   ]
  },
  {
   "cell_type": "code",
   "execution_count": 7,
   "metadata": {
    "collapsed": false
   },
   "outputs": [],
   "source": [
    "df = pd.merge(tissues_df, pd.merge(pd.DataFrame(mutations_df.Barcode.value_counts()), hla_df, left_index=True, right_index=True),\n",
    "                          left_index=True, right_index=True)\n",
    "df.columns = ['Tissue', 'number_of_mutations', 'Sample', 'maf', 'polysolver']"
   ]
  },
  {
   "cell_type": "code",
   "execution_count": 8,
   "metadata": {
    "collapsed": false
   },
   "outputs": [],
   "source": [
    "tissues = list(df[df.polysolver == 1].Tissue.value_counts().index)[:10]"
   ]
  },
  {
   "cell_type": "code",
   "execution_count": 9,
   "metadata": {
    "collapsed": false
   },
   "outputs": [
    {
     "data": {
      "text/plain": [
       "HNSC    52\n",
       "STAD    39\n",
       "COAD    29\n",
       "LUSC    21\n",
       "LUAD    18\n",
       "UCEC    18\n",
       "SKCM    16\n",
       "BLCA    13\n",
       "BRCA     8\n",
       "LGG      6\n",
       "CESC     5\n",
       "READ     4\n",
       "KIRP     3\n",
       "OV       2\n",
       "KIRC     1\n",
       "GBM      1\n",
       "PRAD     1\n",
       "THCA     1\n",
       "Name: Tissue, dtype: int64"
      ]
     },
     "execution_count": 9,
     "metadata": {},
     "output_type": "execute_result"
    }
   ],
   "source": [
    "df[df.polysolver == 1].Tissue.value_counts()"
   ]
  },
  {
   "cell_type": "code",
   "execution_count": 9,
   "metadata": {
    "collapsed": false
   },
   "outputs": [
    {
     "data": {
      "image/png": "[encoded data removed]",
      "text/plain": [
       "<matplotlib.figure.Figure at 0x7fb0ad33e3d0>"
      ]
     },
     "metadata": {},
     "output_type": "display_data"
    }
   ],
   "source": [
    "plt.rcParams['figure.figsize']=(10,4)\n",
    "ax = sns.boxplot(x='Tissue', y='number_of_mutations', hue='polysolver', order=tissues, data=df, \n",
    "                 color='white', fliersize=1)\n",
    "ax.set_yscale(\"log\")\n",
    "plt.ylabel('Total Number of Mutations')\n",
    "plt.savefig('/cellar/users/ramarty/Data/hla/git_data/figures/hla_mutated.pdf')"
   ]
  },
  {
   "cell_type": "code",
   "execution_count": 10,
   "metadata": {
    "collapsed": false
   },
   "outputs": [
    {
     "name": "stdout",
     "output_type": "stream",
     "text": [
      "HNSC MannwhitneyuResult(statistic=7760.5, pvalue=6.3575328157465001e-05)\n",
      "STAD MannwhitneyuResult(statistic=1341.5, pvalue=1.9887860242886376e-17)\n",
      "COAD MannwhitneyuResult(statistic=980.0, pvalue=2.5527380590930318e-13)\n",
      "LUSC MannwhitneyuResult(statistic=3437.5, pvalue=0.013121713017642589)\n",
      "LUAD MannwhitneyuResult(statistic=4084.5, pvalue=0.11574386402474013)\n",
      "UCEC MannwhitneyuResult(statistic=549.0, pvalue=2.5852082485201965e-09)\n",
      "SKCM MannwhitneyuResult(statistic=1343.0, pvalue=1.1504518358268601e-05)\n",
      "BLCA MannwhitneyuResult(statistic=1654.5, pvalue=0.016584894870762375)\n",
      "BRCA MannwhitneyuResult(statistic=1141.0, pvalue=0.00047231481681860428)\n",
      "LGG MannwhitneyuResult(statistic=861.5, pvalue=0.036483442352682388)\n"
     ]
    }
   ],
   "source": [
    "# p-values\n",
    "p = []\n",
    "for tissue in tissues:\n",
    "    tissue_df = df[df.Tissue == tissue]\n",
    "    p.append(sp.mannwhitneyu(tissue_df[tissue_df.polysolver == True].number_of_mutations, tissue_df[tissue_df.polysolver == False].number_of_mutations)[1])\n",
    "    print tissue, sp.mannwhitneyu(tissue_df[tissue_df.polysolver == True].number_of_mutations, tissue_df[tissue_df.polysolver == False].number_of_mutations)"
   ]
  },
  {
   "cell_type": "code",
   "execution_count": 11,
   "metadata": {
    "collapsed": true
   },
   "outputs": [],
   "source": [
    "df_pvalues = pd.DataFrame({'Tissue': tissues, 'Raw_p': p})"
   ]
  },
  {
   "cell_type": "code",
   "execution_count": 12,
   "metadata": {
    "collapsed": true
   },
   "outputs": [],
   "source": [
    "from rpy2.robjects.packages import importr\n",
    "from rpy2.robjects.vectors import FloatVector\n",
    "stats = importr('stats')"
   ]
  },
  {
   "cell_type": "code",
   "execution_count": 13,
   "metadata": {
    "collapsed": false
   },
   "outputs": [],
   "source": [
    "df_pvalues['BH_adj'] = stats.p_adjust(FloatVector(df_pvalues.Raw_p), method = 'BH')"
   ]
  },
  {
   "cell_type": "code",
   "execution_count": 14,
   "metadata": {
    "collapsed": false
   },
   "outputs": [
    {
     "data": {
      "text/html": [
       "<div>\n",
       "<table border=\"1\" class=\"dataframe\">\n",
       "  <thead>\n",
       "    <tr style=\"text-align: right;\">\n",
       "      <th></th>\n",
       "      <th>Raw_p</th>\n",
       "      <th>Tissue</th>\n",
       "      <th>BH_adj</th>\n",
       "    </tr>\n",
       "  </thead>\n",
       "  <tbody>\n",
       "    <tr>\n",
       "      <th>0</th>\n",
       "      <td>6.357533e-05</td>\n",
       "      <td>HNSC</td>\n",
       "      <td>1.271507e-04</td>\n",
       "    </tr>\n",
       "    <tr>\n",
       "      <th>1</th>\n",
       "      <td>1.988786e-17</td>\n",
       "      <td>STAD</td>\n",
       "      <td>1.988786e-16</td>\n",
       "    </tr>\n",
       "    <tr>\n",
       "      <th>2</th>\n",
       "      <td>2.552738e-13</td>\n",
       "      <td>COAD</td>\n",
       "      <td>1.276369e-12</td>\n",
       "    </tr>\n",
       "    <tr>\n",
       "      <th>3</th>\n",
       "      <td>1.312171e-02</td>\n",
       "      <td>LUSC</td>\n",
       "      <td>1.874530e-02</td>\n",
       "    </tr>\n",
       "    <tr>\n",
       "      <th>4</th>\n",
       "      <td>1.157439e-01</td>\n",
       "      <td>LUAD</td>\n",
       "      <td>1.157439e-01</td>\n",
       "    </tr>\n",
       "    <tr>\n",
       "      <th>5</th>\n",
       "      <td>2.585208e-09</td>\n",
       "      <td>UCEC</td>\n",
       "      <td>8.617361e-09</td>\n",
       "    </tr>\n",
       "    <tr>\n",
       "      <th>6</th>\n",
       "      <td>1.150452e-05</td>\n",
       "      <td>SKCM</td>\n",
       "      <td>2.876130e-05</td>\n",
       "    </tr>\n",
       "    <tr>\n",
       "      <th>7</th>\n",
       "      <td>1.658489e-02</td>\n",
       "      <td>BLCA</td>\n",
       "      <td>2.073112e-02</td>\n",
       "    </tr>\n",
       "    <tr>\n",
       "      <th>8</th>\n",
       "      <td>4.723148e-04</td>\n",
       "      <td>BRCA</td>\n",
       "      <td>7.871914e-04</td>\n",
       "    </tr>\n",
       "    <tr>\n",
       "      <th>9</th>\n",
       "      <td>3.648344e-02</td>\n",
       "      <td>LGG</td>\n",
       "      <td>4.053716e-02</td>\n",
       "    </tr>\n",
       "  </tbody>\n",
       "</table>\n",
       "</div>"
      ],
      "text/plain": [
       "          Raw_p Tissue        BH_adj\n",
       "0  6.357533e-05   HNSC  1.271507e-04\n",
       "1  1.988786e-17   STAD  1.988786e-16\n",
       "2  2.552738e-13   COAD  1.276369e-12\n",
       "3  1.312171e-02   LUSC  1.874530e-02\n",
       "4  1.157439e-01   LUAD  1.157439e-01\n",
       "5  2.585208e-09   UCEC  8.617361e-09\n",
       "6  1.150452e-05   SKCM  2.876130e-05\n",
       "7  1.658489e-02   BLCA  2.073112e-02\n",
       "8  4.723148e-04   BRCA  7.871914e-04\n",
       "9  3.648344e-02    LGG  4.053716e-02"
      ]
     },
     "execution_count": 14,
     "metadata": {},
     "output_type": "execute_result"
    }
   ],
   "source": [
    "df_pvalues"
   ]
  },
  {
   "cell_type": "code",
   "execution_count": null,
   "metadata": {
    "collapsed": true
   },
   "outputs": [],
   "source": []
  }
 ],
 "metadata": {
  "kernelspec": {
   "display_name": "Python 2",
   "language": "python",
   "name": "python2"
  },
  "language_info": {
   "codemirror_mode": {
    "name": "ipython",
    "version": 2
   },
   "file_extension": ".py",
   "mimetype": "text/x-python",
   "name": "python",
   "nbconvert_exporter": "python",
   "pygments_lexer": "ipython2",
   "version": "2.7.12"
  }
 },
 "nbformat": 4,
 "nbformat_minor": 0
}
