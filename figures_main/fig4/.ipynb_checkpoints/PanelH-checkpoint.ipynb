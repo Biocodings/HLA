{
 "cells": [
  {
   "cell_type": "code",
   "execution_count": 11,
   "metadata": {
    "collapsed": false,
    "scrolled": true
   },
   "outputs": [
    {
     "name": "stdout",
     "output_type": "stream",
     "text": [
      "Populating the interactive namespace from numpy and matplotlib\n"
     ]
    }
   ],
   "source": [
    "import io\n",
    "from IPython.nbformat import current\n",
    "def execute_notebook(nbfile):\n",
    "    with io.open(nbfile) as f:\n",
    "        nb = current.read(f, 'json')\n",
    "    ip = get_ipython()\n",
    "    for cell in nb.worksheets[0].cells:\n",
    "        if cell.cell_type != 'code':\n",
    "            continue\n",
    "        ip.run_cell(cell.input)\n",
    "execute_notebook(\"../../imports/imports.ipynb\")"
   ]
  },
  {
   "cell_type": "markdown",
   "metadata": {},
   "source": [
    "## Panel H <br>\n",
    "Data requirements: Patient HLA mutation status, MAF file"
   ]
  },
  {
   "cell_type": "code",
   "execution_count": 18,
   "metadata": {
    "collapsed": true
   },
   "outputs": [],
   "source": [
    "hla_df = pd.read_csv('/cellar/users/ramarty/Data/hla/git_data/data/clinical/mutated_hla.csv', index_col=0)\n",
    "hla_df.index = hla_df['Sample']"
   ]
  },
  {
   "cell_type": "code",
   "execution_count": 20,
   "metadata": {
    "collapsed": false
   },
   "outputs": [
    {
     "data": {
      "text/html": [
       "<div>\n",
       "<table border=\"1\" class=\"dataframe\">\n",
       "  <thead>\n",
       "    <tr style=\"text-align: right;\">\n",
       "      <th></th>\n",
       "      <th></th>\n",
       "      <th>Sample</th>\n",
       "    </tr>\n",
       "    <tr>\n",
       "      <th>mutated_hla_in_maf</th>\n",
       "      <th>mutated_hla_in_shukla</th>\n",
       "      <th></th>\n",
       "    </tr>\n",
       "  </thead>\n",
       "  <tbody>\n",
       "    <tr>\n",
       "      <th rowspan=\"2\" valign=\"top\">False</th>\n",
       "      <th>False</th>\n",
       "      <td>8847</td>\n",
       "    </tr>\n",
       "    <tr>\n",
       "      <th>True</th>\n",
       "      <td>136</td>\n",
       "    </tr>\n",
       "    <tr>\n",
       "      <th rowspan=\"2\" valign=\"top\">True</th>\n",
       "      <th>False</th>\n",
       "      <td>91</td>\n",
       "    </tr>\n",
       "    <tr>\n",
       "      <th>True</th>\n",
       "      <td>102</td>\n",
       "    </tr>\n",
       "  </tbody>\n",
       "</table>\n",
       "</div>"
      ],
      "text/plain": [
       "                                          Sample\n",
       "mutated_hla_in_maf mutated_hla_in_shukla        \n",
       "False              False                    8847\n",
       "                   True                      136\n",
       "True               False                      91\n",
       "                   True                      102"
      ]
     },
     "execution_count": 20,
     "metadata": {},
     "output_type": "execute_result"
    }
   ],
   "source": [
    "hla_df.groupby(['mutated_hla_in_maf', 'mutated_hla_in_shukla']).count()"
   ]
  },
  {
   "cell_type": "code",
   "execution_count": 22,
   "metadata": {
    "collapsed": false
   },
   "outputs": [],
   "source": [
    "# drop rows where maf is true and polysolver is false\n",
    "hla_df = hla_df[~((hla_df.mutated_hla_in_maf == True)&(hla_df.mutated_hla_in_shukla == False))]"
   ]
  },
  {
   "cell_type": "code",
   "execution_count": 23,
   "metadata": {
    "collapsed": false
   },
   "outputs": [],
   "source": [
    "mutations_df = pd.read_csv('/cellar/users/ramarty/Data/hla/git_data/data/tcga_mutation_file.csv', index_col=0)\n",
    "mutations_df = mutations_df.drop_duplicates(['Barcode', 'Hugo_Symbol', 'Protein_position'])\n",
    "mutations_df = mutations_df[mutations_df.Barcode.isin(hla_df['Sample'])]"
   ]
  },
  {
   "cell_type": "code",
   "execution_count": 25,
   "metadata": {
    "collapsed": true
   },
   "outputs": [],
   "source": [
    "tissues_df = pd.read_csv('/cellar/users/ramarty/Data/hla/git_data/data/patient_tissues.csv', index_col=0)"
   ]
  },
  {
   "cell_type": "code",
   "execution_count": 27,
   "metadata": {
    "collapsed": false
   },
   "outputs": [],
   "source": [
    "df = pd.merge(tissues_df, pd.merge(pd.DataFrame(mutations_df.Barcode.value_counts()), hla_df, left_index=True, right_index=True),\n",
    "                          left_index=True, right_index=True)\n",
    "df.columns = ['Tissue', 'number_of_mutations', 'Sample', 'maf', 'polysolver']"
   ]
  },
  {
   "cell_type": "code",
   "execution_count": 29,
   "metadata": {
    "collapsed": false
   },
   "outputs": [],
   "source": [
    "tissues = list(df[df.polysolver == 1].Tissue.value_counts().index)[:10]"
   ]
  },
  {
   "cell_type": "code",
   "execution_count": 40,
   "metadata": {
    "collapsed": false
   },
   "outputs": [
    {
     "data": {
      "image/png": "[encoded data removed]",
      "text/plain": [
       "<matplotlib.figure.Figure at 0x7fbbd81e9050>"
      ]
     },
     "metadata": {},
     "output_type": "display_data"
    }
   ],
   "source": [
    "plt.rcParams['figure.figsize']=(10,4)\n",
    "ax = sns.boxplot(x='Tissue', y='number_of_mutations', hue='polysolver', order=tissues, data=df, \n",
    "                 color='white', fliersize=1)\n",
    "ax.set_yscale(\"log\")\n",
    "plt.ylabel('Total Number of Mutations')\n",
    "plt.savefig('/cellar/users/ramarty/Data/hla/git_data/figures/hla_mutated.pdf')"
   ]
  },
  {
   "cell_type": "code",
   "execution_count": 41,
   "metadata": {
    "collapsed": false
   },
   "outputs": [
    {
     "name": "stdout",
     "output_type": "stream",
     "text": [
      "HNSC MannwhitneyuResult(statistic=7823.5, pvalue=6.1237095229801241e-05)\n",
      "STAD MannwhitneyuResult(statistic=1374.5, pvalue=2.6528477632695883e-17)\n",
      "COAD MannwhitneyuResult(statistic=1008.0, pvalue=3.5125813738638903e-13)\n",
      "LUSC MannwhitneyuResult(statistic=3487.5, pvalue=0.014669123634267764)\n",
      "LUAD MannwhitneyuResult(statistic=4084.5, pvalue=0.11574386402474013)\n",
      "UCEC MannwhitneyuResult(statistic=564.0, pvalue=3.1163023195097963e-09)\n",
      "SKCM MannwhitneyuResult(statistic=1359.0, pvalue=1.249460976157009e-05)\n",
      "BLCA MannwhitneyuResult(statistic=1666.5, pvalue=0.017369434545875813)\n",
      "BRCA MannwhitneyuResult(statistic=1141.0, pvalue=0.00047231481681860428)\n",
      "LGG MannwhitneyuResult(statistic=861.5, pvalue=0.036483442352682388)\n"
     ]
    }
   ],
   "source": [
    "# p-values\n",
    "p = []\n",
    "for tissue in tissues:\n",
    "    tissue_df = df[df.Tissue == tissue]\n",
    "    p.append(sp.mannwhitneyu(tissue_df[tissue_df.polysolver == True].number_of_mutations, tissue_df[tissue_df.polysolver == False].number_of_mutations)[1])\n",
    "    print tissue, sp.mannwhitneyu(tissue_df[tissue_df.polysolver == True].number_of_mutations, tissue_df[tissue_df.polysolver == False].number_of_mutations)"
   ]
  },
  {
   "cell_type": "code",
   "execution_count": 44,
   "metadata": {
    "collapsed": true
   },
   "outputs": [],
   "source": [
    "df_pvalues = pd.DataFrame({'Tissue': tissues, 'Raw_p': p})"
   ]
  },
  {
   "cell_type": "code",
   "execution_count": 45,
   "metadata": {
    "collapsed": true
   },
   "outputs": [],
   "source": [
    "from rpy2.robjects.packages import importr\n",
    "from rpy2.robjects.vectors import FloatVector\n",
    "stats = importr('stats')"
   ]
  },
  {
   "cell_type": "code",
   "execution_count": 48,
   "metadata": {
    "collapsed": false
   },
   "outputs": [],
   "source": [
    "df_pvalues['BH_adj'] = stats.p_adjust(FloatVector(df_pvalues.Raw_p), method = 'BH')"
   ]
  },
  {
   "cell_type": "code",
   "execution_count": 49,
   "metadata": {
    "collapsed": false
   },
   "outputs": [
    {
     "data": {
      "text/html": [
       "<div>\n",
       "<table border=\"1\" class=\"dataframe\">\n",
       "  <thead>\n",
       "    <tr style=\"text-align: right;\">\n",
       "      <th></th>\n",
       "      <th>Raw_p</th>\n",
       "      <th>Tissue</th>\n",
       "      <th>BH_adj</th>\n",
       "    </tr>\n",
       "  </thead>\n",
       "  <tbody>\n",
       "    <tr>\n",
       "      <th>0</th>\n",
       "      <td>6.123710e-05</td>\n",
       "      <td>HNSC</td>\n",
       "      <td>1.224742e-04</td>\n",
       "    </tr>\n",
       "    <tr>\n",
       "      <th>1</th>\n",
       "      <td>2.652848e-17</td>\n",
       "      <td>STAD</td>\n",
       "      <td>2.652848e-16</td>\n",
       "    </tr>\n",
       "    <tr>\n",
       "      <th>2</th>\n",
       "      <td>3.512581e-13</td>\n",
       "      <td>COAD</td>\n",
       "      <td>1.756291e-12</td>\n",
       "    </tr>\n",
       "    <tr>\n",
       "      <th>3</th>\n",
       "      <td>1.466912e-02</td>\n",
       "      <td>LUSC</td>\n",
       "      <td>2.095589e-02</td>\n",
       "    </tr>\n",
       "    <tr>\n",
       "      <th>4</th>\n",
       "      <td>1.157439e-01</td>\n",
       "      <td>LUAD</td>\n",
       "      <td>1.157439e-01</td>\n",
       "    </tr>\n",
       "    <tr>\n",
       "      <th>5</th>\n",
       "      <td>3.116302e-09</td>\n",
       "      <td>UCEC</td>\n",
       "      <td>1.038767e-08</td>\n",
       "    </tr>\n",
       "    <tr>\n",
       "      <th>6</th>\n",
       "      <td>1.249461e-05</td>\n",
       "      <td>SKCM</td>\n",
       "      <td>3.123652e-05</td>\n",
       "    </tr>\n",
       "    <tr>\n",
       "      <th>7</th>\n",
       "      <td>1.736943e-02</td>\n",
       "      <td>BLCA</td>\n",
       "      <td>2.171179e-02</td>\n",
       "    </tr>\n",
       "    <tr>\n",
       "      <th>8</th>\n",
       "      <td>4.723148e-04</td>\n",
       "      <td>BRCA</td>\n",
       "      <td>7.871914e-04</td>\n",
       "    </tr>\n",
       "    <tr>\n",
       "      <th>9</th>\n",
       "      <td>3.648344e-02</td>\n",
       "      <td>LGG</td>\n",
       "      <td>4.053716e-02</td>\n",
       "    </tr>\n",
       "  </tbody>\n",
       "</table>\n",
       "</div>"
      ],
      "text/plain": [
       "          Raw_p Tissue        BH_adj\n",
       "0  6.123710e-05   HNSC  1.224742e-04\n",
       "1  2.652848e-17   STAD  2.652848e-16\n",
       "2  3.512581e-13   COAD  1.756291e-12\n",
       "3  1.466912e-02   LUSC  2.095589e-02\n",
       "4  1.157439e-01   LUAD  1.157439e-01\n",
       "5  3.116302e-09   UCEC  1.038767e-08\n",
       "6  1.249461e-05   SKCM  3.123652e-05\n",
       "7  1.736943e-02   BLCA  2.171179e-02\n",
       "8  4.723148e-04   BRCA  7.871914e-04\n",
       "9  3.648344e-02    LGG  4.053716e-02"
      ]
     },
     "execution_count": 49,
     "metadata": {},
     "output_type": "execute_result"
    }
   ],
   "source": [
    "df_pvalues"
   ]
  },
  {
   "cell_type": "code",
   "execution_count": null,
   "metadata": {
    "collapsed": true
   },
   "outputs": [],
   "source": []
  }
 ],
 "metadata": {
  "kernelspec": {
   "display_name": "Python 2",
   "language": "python",
   "name": "python2"
  },
  "language_info": {
   "codemirror_mode": {
    "name": "ipython",
    "version": 2
   },
   "file_extension": ".py",
   "mimetype": "text/x-python",
   "name": "python",
   "nbconvert_exporter": "python",
   "pygments_lexer": "ipython2",
   "version": "2.7.12"
  }
 },
 "nbformat": 4,
 "nbformat_minor": 0
}
