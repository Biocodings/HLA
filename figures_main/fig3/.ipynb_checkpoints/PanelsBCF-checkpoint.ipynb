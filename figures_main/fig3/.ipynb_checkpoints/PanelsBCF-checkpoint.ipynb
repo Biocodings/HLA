{
 "cells": [
  {
   "cell_type": "code",
   "execution_count": 1,
   "metadata": {
    "collapsed": false
   },
   "outputs": [
    {
     "name": "stdout",
     "output_type": "stream",
     "text": [
      "Populating the interactive namespace from numpy and matplotlib\n"
     ]
    },
    {
     "name": "stderr",
     "output_type": "stream",
     "text": [
      "/cellar/users/ramarty/anaconda/lib/python2.7/site-packages/IPython/nbformat/current.py:19: UserWarning: IPython.nbformat.current is deprecated.\n",
      "\n",
      "- use IPython.nbformat for read/write/validate public API\n",
      "- use IPython.nbformat.vX directly to composing notebooks of a particular version\n",
      "\n",
      "  \"\"\")\n"
     ]
    }
   ],
   "source": [
    "import io\n",
    "from IPython.nbformat import current\n",
    "def execute_notebook(nbfile):\n",
    "    with io.open(nbfile) as f:\n",
    "        nb = current.read(f, 'json')\n",
    "    ip = get_ipython()\n",
    "    for cell in nb.worksheets[0].cells:\n",
    "        if cell.cell_type != 'code':\n",
    "            continue\n",
    "        ip.run_cell(cell.input)\n",
    "execute_notebook(\"../../imports/imports.ipynb\")"
   ]
  },
  {
   "cell_type": "markdown",
   "metadata": {},
   "source": [
    "##Panel B <br>\n",
    "Data requirements: PBR matrix, mutation matrix"
   ]
  },
  {
   "cell_type": "code",
   "execution_count": 2,
   "metadata": {
    "collapsed": true
   },
   "outputs": [],
   "source": [
    "patient_affinities = pd.read_csv('../../data/patient_affinities.cancer.csv', index_col=0)\n",
    "patient_mutations = pd.read_csv('../../data/patient_mutations.cancer.csv', index_col=0)"
   ]
  },
  {
   "cell_type": "code",
   "execution_count": 3,
   "metadata": {
    "collapsed": true
   },
   "outputs": [],
   "source": [
    "acquired_cancer, not_acquired_cancer = [], []\n",
    "for i, patient in enumerate(list(patient_mutations.index)):\n",
    "    acquired = list(patient_mutations.ix[patient][patient_mutations.ix[patient] == 1].index)\n",
    "    not_acquired = list(patient_mutations.ix[patient][patient_mutations.ix[patient] == 0].index)\n",
    "    acquired_cancer.extend((list(patient_affinities.ix[patient, acquired])))\n",
    "    not_acquired_cancer.extend((list(patient_affinities.ix[patient, not_acquired])))"
   ]
  },
  {
   "cell_type": "code",
   "execution_count": 4,
   "metadata": {
    "collapsed": false
   },
   "outputs": [],
   "source": [
    "plotting_df = pd.DataFrame({'PBR': acquired_cancer + not_acquired_cancer,\n",
    "                           'Mutation': [1 for x in acquired_cancer] + [0 for x in not_acquired_cancer]})"
   ]
  },
  {
   "cell_type": "code",
   "execution_count": 5,
   "metadata": {
    "collapsed": false
   },
   "outputs": [
    {
     "data": {
      "text/plain": [
       "(0, 6)"
      ]
     },
     "execution_count": 5,
     "metadata": {},
     "output_type": "execute_result"
    },
    {
     "data": {
      "image/png": "[encoded data removed]",
      "text/plain": [
       "<matplotlib.figure.Figure at 0x7fe5c97838d0>"
      ]
     },
     "metadata": {},
     "output_type": "display_data"
    }
   ],
   "source": [
    "sns.set_style('white')\n",
    "ax = sns.boxplot(x='Mutation', y='PBR', data=plotting_df, showfliers=False, color='white')\n",
    "ax.grid(False)\n",
    "plt.ylim(0, 6)"
   ]
  },
  {
   "cell_type": "markdown",
   "metadata": {},
   "source": [
    "### Panel C <br>\n",
    "Data requirements: PBR matrix, mutation matrix"
   ]
  },
  {
   "cell_type": "code",
   "execution_count": null,
   "metadata": {
    "collapsed": true
   },
   "outputs": [],
   "source": []
  },
  {
   "cell_type": "code",
   "execution_count": null,
   "metadata": {
    "collapsed": true
   },
   "outputs": [],
   "source": []
  },
  {
   "cell_type": "markdown",
   "metadata": {},
   "source": [
    "## Panel F <br>\n",
    "Data requirements: Passenger PBR matrix, Passenger mutation matrix, Germline PBR matrix, Germline mutation matrix"
   ]
  },
  {
   "cell_type": "code",
   "execution_count": null,
   "metadata": {
    "collapsed": true
   },
   "outputs": [],
   "source": [
    "# passenger matrices\n",
    "patient_affinities_passenger = pd.read_csv('../../data/patient_affinities.passengers.csv', index_col=0)\n",
    "patient_mutations_passenger = pd.read_csv('../../data/patient_mutations.passengers.csv', index_col=0)\n",
    "# germline matrices\n",
    "patient_affinities_germline = pd.read_csv('../../data/patient_affinities.germline.csv', index_col=0)\n",
    "patient_mutations_germline = pd.read_csv('../../data/patient_mutations.germline.csv', index_col=0)"
   ]
  },
  {
   "cell_type": "code",
   "execution_count": null,
   "metadata": {
    "collapsed": true
   },
   "outputs": [],
   "source": [
    "acquired_passenger, not_acquired_passenger = [], []\n",
    "for i, patient in enumerate(list(patient_mutations_passenger.index)):\n",
    "    acquired = list(patient_mutations_passenger.ix[patient][patient_mutations_passenger.ix[patient] == 1].index)\n",
    "    not_acquired = list(patient_mutations_passenger.ix[patient][patient_mutations_passenger.ix[patient] == 0].index)\n",
    "    acquired_passenger.extend((list(patient_affinities_passenger.ix[patient, acquired])))\n",
    "    not_acquired_passenger.extend((list(patient_affinities_passenger.ix[patient, not_acquired])))"
   ]
  },
  {
   "cell_type": "code",
   "execution_count": null,
   "metadata": {
    "collapsed": true
   },
   "outputs": [],
   "source": [
    "acquired_germline, not_acquired_germline = [], []\n",
    "for i, patient in enumerate(list(patient_mutations_germline.index)):\n",
    "    acquired = list(patient_mutations_germline.ix[patient][patient_mutations_germline.ix[patient] == 1].index)\n",
    "    not_acquired = list(patient_mutations_germline.ix[patient][patient_mutations_germline.ix[patient] == 0].index)\n",
    "    acquired_germline.extend((list(patient_affinities_germline.ix[patient, acquired])))\n",
    "    not_acquired_germline.extend((list(patient_affinities_germline.ix[patient, not_acquired])))"
   ]
  },
  {
   "cell_type": "code",
   "execution_count": null,
   "metadata": {
    "collapsed": false
   },
   "outputs": [],
   "source": [
    "plotting_df = pd.DataFrame({'PBR': acquired_passenger + not_acquired_passenger + acquired_germline + not_acquired_germline,\n",
    "                           'Mutation': [1 for x in acquired_passenger] + [0 for x in not_acquired_passenger] + [1 for x in acquired_germline] + [0 for x in not_acquired_germline],\n",
    "                           'Category': ['Passenger' for x in acquired_passenger + not_acquired_passenger] + ['Germline' for x in acquired_germline + not_acquired_germline]})"
   ]
  },
  {
   "cell_type": "code",
   "execution_count": null,
   "metadata": {
    "collapsed": false
   },
   "outputs": [],
   "source": [
    "sns.boxplot(x='Category', y='PBR', hue='Mutation', data=plotting_df, showfliers=False, color='w')\n",
    "plt.ylim(0, 6)\n",
    "plt.xlabel('')"
   ]
  },
  {
   "cell_type": "code",
   "execution_count": null,
   "metadata": {
    "collapsed": true
   },
   "outputs": [],
   "source": []
  }
 ],
 "metadata": {
  "kernelspec": {
   "display_name": "Python 2",
   "language": "python",
   "name": "python2"
  },
  "language_info": {
   "codemirror_mode": {
    "name": "ipython",
    "version": 2
   },
   "file_extension": ".py",
   "mimetype": "text/x-python",
   "name": "python",
   "nbconvert_exporter": "python",
   "pygments_lexer": "ipython2",
   "version": "2.7.12"
  }
 },
 "nbformat": 4,
 "nbformat_minor": 0
}
