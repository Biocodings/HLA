{
 "cells": [
  {
   "cell_type": "code",
   "execution_count": 1,
   "metadata": {
    "collapsed": false
   },
   "outputs": [
    {
     "name": "stdout",
     "output_type": "stream",
     "text": [
      "Populating the interactive namespace from numpy and matplotlib\n"
     ]
    },
    {
     "name": "stderr",
     "output_type": "stream",
     "text": [
      "/cellar/users/ramarty/anaconda/lib/python2.7/site-packages/IPython/nbformat/current.py:19: UserWarning: IPython.nbformat.current is deprecated.\n",
      "\n",
      "- use IPython.nbformat for read/write/validate public API\n",
      "- use IPython.nbformat.vX directly to composing notebooks of a particular version\n",
      "\n",
      "  \"\"\")\n"
     ]
    }
   ],
   "source": [
    "import io\n",
    "from IPython.nbformat import current\n",
    "def execute_notebook(nbfile):\n",
    "    with io.open(nbfile) as f:\n",
    "        nb = current.read(f, 'json')\n",
    "    ip = get_ipython()\n",
    "    for cell in nb.worksheets[0].cells:\n",
    "        if cell.cell_type != 'code':\n",
    "            continue\n",
    "        ip.run_cell(cell.input)\n",
    "execute_notebook(\"../../imports/imports.ipynb\")"
   ]
  },
  {
   "cell_type": "markdown",
   "metadata": {},
   "source": [
    "## Panel A <br>\n",
    "Data requirement: presentation score matrices for all peptide classes, patient mutation matrix"
   ]
  },
  {
   "cell_type": "code",
   "execution_count": 2,
   "metadata": {
    "collapsed": true
   },
   "outputs": [],
   "source": [
    "categories = ['oncogenes', 'tsgenes', 'random',  'common', 'viral', 'bacterial']"
   ]
  },
  {
   "cell_type": "code",
   "execution_count": 4,
   "metadata": {
    "collapsed": false
   },
   "outputs": [],
   "source": [
    "mutation_counts = pd.DataFrame(pd.read_csv(PATH_TO_DATA + 'data/patient_mutations.cancer.PHBR.csv', index_col=0).sum()).reset_index()\n",
    "mutation_counts.columns = ['mutation', 'count']\n",
    "driver_mutations = list(mutation_counts[mutation_counts['count'] > 10].mutation)"
   ]
  },
  {
   "cell_type": "code",
   "execution_count": null,
   "metadata": {
    "collapsed": true
   },
   "outputs": [],
   "source": [
    "def get_values_from_df(df):\n",
    "    values = []\n",
    "    for a in df.values:\n",
    "        values.extend(a)\n",
    "    return values"
   ]
  },
  {
   "cell_type": "code",
   "execution_count": null,
   "metadata": {
    "collapsed": false
   },
   "outputs": [],
   "source": [
    "value_types = []\n",
    "for category in categories:\n",
    "    # restrict the columns to higher frequency mutations\n",
    "    if category == 'oncogenes' or category == 'tsgenes':\n",
    "        df = pd.read_csv(PATH_TO_DATA + 'data/{0}_allele_matrix.csv'.format(category), index_col=0)\n",
    "        app_restricted_space = [x for x in driver_mutations if x in df.index]\n",
    "        values = get_values_from_df(df.transpose()[app_restricted_space].transpose())\n",
    "        print category, len(values), len(df.index), len(app_restricted_space)\n",
    "        value_types.append(values)\n",
    "    else:\n",
    "        df = pd.read_csv(PATH_TO_DATA + 'data/{0}_allele_matrix.csv'.format(category), index_col=0)\n",
    "        values = get_values_from_df(df)\n",
    "        value_types.append(values)\n",
    "        print category, len(values)"
   ]
  },
  {
   "cell_type": "code",
   "execution_count": null,
   "metadata": {
    "collapsed": true
   },
   "outputs": [],
   "source": [
    "plotting = pd.DataFrame({'category': ['oncogene' for x in value_types[0]] + ['tsgene' for x in value_types[1]] + ['random' for x in value_types[2]] + ['common' for x in value_types[3]] + ['viral' for x in value_types[4]] + ['bacterial' for x in value_types[5]],\n",
    "                         'best_rank': value_types[0] + value_types[1] + value_types[2] + value_types[3] + value_types[4] + value_types[5]})"
   ]
  },
  {
   "cell_type": "code",
   "execution_count": null,
   "metadata": {
    "collapsed": false
   },
   "outputs": [],
   "source": [
    "ax = sns.boxplot(x='category', y='best_rank', data=plotting, showfliers=False, color='white')\n",
    "ax.grid(False)\n",
    "plt.ylabel('Residue Presentation Score')\n",
    "plt.xticks(rotation=45)\n",
    "plt.xlabel('')\n",
    "plt.ylim(0, 25)"
   ]
  },
  {
   "cell_type": "markdown",
   "metadata": {},
   "source": [
    "## Panel B <br>\n",
    "Data requirement: presentation score matrices for all peptide classes"
   ]
  },
  {
   "cell_type": "code",
   "execution_count": 8,
   "metadata": {
    "collapsed": false
   },
   "outputs": [
    {
     "name": "stdout",
     "output_type": "stream",
     "text": [
      "oncogenes 0.261888904889 0.0743529051768\n",
      "tsgenes 0.296071917139 0.072024623803\n",
      "random 0.317438554492 0.0936664386685\n",
      "common 0.325530437756 0.0964914500684\n",
      "viral 0.330242818057 0.0985441176471\n",
      "bacterial 0.337079685363 0.0993201094391\n"
     ]
    }
   ],
   "source": [
    "perc_strong, perc_all, total_strong, total_all, total_count = [], [], [], [], []\n",
    "for i, category in enumerate(categories):\n",
    "    total = len(value_types[i])\n",
    "    greater_than_strong = len(filter(lambda a: a < 0.5, value_types[i]))\n",
    "    greater_than_all = len(filter(lambda a: a < 2, value_types[i]))\n",
    "    total_strong.append(greater_than_strong)\n",
    "    total_all.append(greater_than_all)\n",
    "    total_count.append(total)\n",
    "    print category, float(greater_than_all)/total, float(greater_than_strong)/total\n",
    "    perc_all.append(float(greater_than_all)/total)\n",
    "    perc_strong.append(float(greater_than_strong)/total)"
   ]
  },
  {
   "cell_type": "code",
   "execution_count": 9,
   "metadata": {
    "collapsed": true
   },
   "outputs": [],
   "source": [
    "binders = pd.DataFrame({'category': categories, 'Perc_strong': perc_strong, 'Perc_all': perc_all})"
   ]
  },
  {
   "cell_type": "code",
   "execution_count": 10,
   "metadata": {
    "collapsed": true
   },
   "outputs": [],
   "source": [
    "binders['strong_from_r'] = ((binders.Perc_strong - float(binders[binders.category == 'random'].Perc_strong))/float(binders[binders.category == 'random'].Perc_strong)) * 100\n",
    "binders['all_from_r'] = ((binders.Perc_all - float(binders[binders.category == 'random'].Perc_all))/float(binders[binders.category == 'random'].Perc_all)) * 100"
   ]
  },
  {
   "cell_type": "code",
   "execution_count": 11,
   "metadata": {
    "collapsed": true
   },
   "outputs": [],
   "source": [
    "all_binders = pd.DataFrame({'category': list(binders.category) + list(binders.category),\n",
    "                            'percentage': list(binders.Perc_all) + list(binders.Perc_strong),\n",
    "                            'binding': ['rank < 2%' for x in list(binders.Perc_all)] + ['rank < 0.5%' for x in list(binders.Perc_strong)]})"
   ]
  },
  {
   "cell_type": "code",
   "execution_count": 12,
   "metadata": {
    "collapsed": false,
    "scrolled": true
   },
   "outputs": [
    {
     "data": {
      "text/plain": [
       "<matplotlib.text.Text at 0x7f637d4f1e10>"
      ]
     },
     "execution_count": 12,
     "metadata": {},
     "output_type": "execute_result"
    },
    {
     "data": {
      "image/png": "[encoded data removed]",
      "text/plain": [
       "<matplotlib.figure.Figure at 0x7f637d7d1810>"
      ]
     },
     "metadata": {},
     "output_type": "display_data"
    }
   ],
   "source": [
    "ax = sns.barplot(x='category', y='percentage', hue='binding', data=all_binders, order=['oncogenes', 'tsgenes', 'random', 'common', 'viral', 'bacterial'], color='white')\n",
    "ax.grid(False)\n",
    "plt.xticks(rotation=45)\n",
    "plt.ylim(0, 0.45)\n",
    "plt.ylabel('Fraction of residues with binding peptides')\n",
    "plt.xlabel('')"
   ]
  },
  {
   "cell_type": "code",
   "execution_count": null,
   "metadata": {
    "collapsed": true
   },
   "outputs": [],
   "source": []
  }
 ],
 "metadata": {
  "kernelspec": {
   "display_name": "Python 2",
   "language": "python",
   "name": "python2"
  },
  "language_info": {
   "codemirror_mode": {
    "name": "ipython",
    "version": 2
   },
   "file_extension": ".py",
   "mimetype": "text/x-python",
   "name": "python",
   "nbconvert_exporter": "python",
   "pygments_lexer": "ipython2",
   "version": "2.7.12"
  }
 },
 "nbformat": 4,
 "nbformat_minor": 0
}
